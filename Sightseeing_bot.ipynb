{
 "cells": [
  {
   "cell_type": "code",
   "execution_count": 1,
   "metadata": {},
   "outputs": [],
   "source": [
    "bot_name = \"s1ght5331ng_bot\"\n",
    "token = '1828402127:AAH1ExD5v_8AmR1IbVaOXA4JEVuxp-Od71o'"
   ]
  },
  {
   "cell_type": "code",
   "execution_count": 2,
   "metadata": {},
   "outputs": [],
   "source": [
    "url = 'https://api.telegram.org/bot'+token"
   ]
  },
  {
   "cell_type": "code",
   "execution_count": 3,
   "metadata": {},
   "outputs": [],
   "source": [
    "import requests\n",
    "import json\n",
    "import telebot\n",
    "import time\n",
    "import pandas as pd\n",
    "\n",
    "bot = telebot.TeleBot(token, threaded=False)"
   ]
  },
  {
   "cell_type": "code",
   "execution_count": 4,
   "metadata": {},
   "outputs": [],
   "source": [
    "@bot.message_handler(commands=['start'])\n",
    "def send_hello(message):\n",
    "    bot.send_message(\n",
    "        message.chat.id, \n",
    "'Привет! Я помогу тебе выбрать памятник архитектуры \\\n",
    "или объект наследия в твоем регионе. Сейчас я знаю 3 области:\\n\\\n",
    "    /msk - Московская \\n\\\n",
    "    /spb - Ленинградская \\n\\\n",
    "    /orb - Оренбургская \\n\\\n",
    "Нажми на соответствующую команду, и мы что-нибудь подберем')"
   ]
  },
  {
   "cell_type": "code",
   "execution_count": 5,
   "metadata": {},
   "outputs": [],
   "source": [
    "@bot.message_handler(commands=['msk'])\n",
    "def select_region_msk(message):\n",
    "    print('got message for Moscow')\n",
    "    bot.send_message(\n",
    "        message.chat.id, \n",
    "        'Нашлось ' + str(msk.shape[0]) + ' объектов, уточните район:\\n\\\n",
    "        /dgp - Долгопрудный\\n\\\n",
    "        /lbn - Лобня\\n\\\n",
    "        /pdk - Подольск')\n",
    "    \n",
    "@bot.message_handler(commands=['spb'])\n",
    "def select_region_spb(message):\n",
    "    print('got message for Saint-Petersburg')\n",
    "    bot.send_message(\n",
    "        message.chat.id, \n",
    "        'Нашлось ' + str(spb.shape[0]) + ' объектов, уточните район:\\n\\\n",
    "        /vlh - Волховский\\n\\\n",
    "        /ldp - Лодейнопольский\\n\\\n",
    "        /lmn - Ломоносовский')\n",
    "\n",
    "@bot.message_handler(commands=['orb'])\n",
    "def select_region_orb(message):\n",
    "    print('got message for Orenburg')\n",
    "    bot.send_message(\n",
    "        message.chat.id, \n",
    "        'Нашлось ' + str(orb.shape[0]) + ' объектов, уточните район:\\n\\\n",
    "        /obg - Оренбург\\n\\\n",
    "        /ork - Орск\\n\\\n",
    "        /bzk - Бузулук')"
   ]
  },
  {
   "cell_type": "code",
   "execution_count": 6,
   "metadata": {},
   "outputs": [],
   "source": [
    "towns = {'dgp': \"Долгопрудный\", \n",
    "         'lbn': \"Лобня\", \n",
    "         'pdk': \"Подольск\", \n",
    "         'vlh': \"Волхонский\",\n",
    "         'ldp': \"Лодейнопльский\",\n",
    "         'lmn': \"Ломоносовский\",\n",
    "         'obg': \"Оренбург\",\n",
    "         'ork': \"Орск\",\n",
    "         'bzk': \"Бузулук\"\n",
    "}\n",
    "\n",
    "@bot.message_handler(commands=['dgp', 'lbn', 'pdk', \n",
    "                               'vlh', 'ldp', 'lmn',\n",
    "                               'obg', 'ork', 'bzk'])\n",
    "def get_objects_by_region(message):\n",
    "    try:\n",
    "        query = message.text[1:]\n",
    "        print('got message for ' + towns[query])\n",
    "        if query in ['dgp', 'lbn', 'pdk']:\n",
    "            entries = msk[msk[\"Полный адрес\"].str.contains(towns[query], na=False)][\"Объект\"]\n",
    "            text = get_response(entries.values)\n",
    "            bot.send_message(message.chat.id, \n",
    "                        'Вот что нашлось в городе '+towns[query]+' Московской области: \\n'+text)\n",
    "        elif query in ['vlh', 'ldp', 'lmn']:\n",
    "            entries = spb[spb[\"Полный адрес\"].str.contains(towns[query], na=False)][\"Объект\"]\n",
    "            text = get_response(entries.values)\n",
    "            bot.send_message(message.chat.id, \n",
    "                        'Вот что нашлось в городе '+towns[query]+' Ленинградской области: \\n'+text)\n",
    "        elif query in ['obg', 'ork', 'bzk']:\n",
    "            entries = orb[orb[\"Полный адрес\"].str.contains(towns[query], na=False)][\"Объект\"]\n",
    "            text = get_response(entries.values)\n",
    "            bot.send_message(message.chat.id, \n",
    "                        'Вот что нашлось в городе '+towns[query]+' Оренбургской области: \\n'+text)\n",
    "    except IndexError as e:\n",
    "        print(e)\n",
    "        bot.send_message(message.chat.id, \"Ничего не нашлось!\")"
   ]
  },
  {
   "cell_type": "code",
   "execution_count": 7,
   "metadata": {},
   "outputs": [],
   "source": [
    "def get_response(text):\n",
    "    responses = []\n",
    "    i = 0\n",
    "    while len('\\n- '.join(responses)) < 3900 and i < len(text):\n",
    "        responses.append(text[i])\n",
    "        i += 1\n",
    "    return '\\n- '.join(responses)"
   ]
  },
  {
   "cell_type": "code",
   "execution_count": 8,
   "metadata": {},
   "outputs": [
    {
     "name": "stderr",
     "output_type": "stream",
     "text": [
      "/Library/Frameworks/Python.framework/Versions/3.8/lib/python3.8/site-packages/IPython/core/interactiveshell.py:3145: DtypeWarning: Columns (1,17) have mixed types.Specify dtype option on import or set low_memory=False.\n",
      "  has_raised = await self.run_ast_nodes(code_ast.body, cell_name,\n"
     ]
    }
   ],
   "source": [
    "df = pd.read_csv('data-50-structure-6.txt', encoding='utf-8')"
   ]
  },
  {
   "cell_type": "code",
   "execution_count": 9,
   "metadata": {},
   "outputs": [],
   "source": [
    "df.dropna(how='all', axis=1,inplace=True)"
   ]
  },
  {
   "cell_type": "code",
   "execution_count": 10,
   "metadata": {},
   "outputs": [],
   "source": [
    "msk = df[df['Регион']=='Московская область']\n",
    "spb = df[df['Регион']=='Ленинградская область']\n",
    "orb = df[df['Регион']=='Оренбургская область']"
   ]
  },
  {
   "cell_type": "code",
   "execution_count": 11,
   "metadata": {},
   "outputs": [],
   "source": [
    "def get_objects_by_region(region):\n",
    "    if region in ['Московская область','Ленинградская область','Оренбургская область']:\n",
    "        return df[df['Регион']==region]"
   ]
  },
  {
   "cell_type": "code",
   "execution_count": null,
   "metadata": {},
   "outputs": [
    {
     "name": "stdout",
     "output_type": "stream",
     "text": [
      "got message for Moscow\n",
      "got message for Долгопрудный\n",
      "got message for Saint-Petersburg\n",
      "got message for Волхонский\n",
      "got message for Лодейнопльский\n",
      "got message for Ломоносовский\n",
      "got message for Orenburg\n",
      "got message for Орск\n",
      "<class 'requests.exceptions.ReadTimeout'>\n",
      "got message for Moscow\n",
      "got message for Долгопрудный\n",
      "got message for Подольск\n",
      "got message for Orenburg\n",
      "got message for Бузулук\n"
     ]
    }
   ],
   "source": [
    "while True:\n",
    "    try:\n",
    "        bot.polling(none_stop=True, interval=0, timeout=20)\n",
    "    except Exception as ex:\n",
    "        print(type(ex))\n",
    "        time.sleep(2)"
   ]
  },
  {
   "cell_type": "code",
   "execution_count": null,
   "metadata": {},
   "outputs": [],
   "source": []
  }
 ],
 "metadata": {
  "kernelspec": {
   "display_name": "Python 3",
   "language": "python",
   "name": "python3"
  },
  "language_info": {
   "codemirror_mode": {
    "name": "ipython",
    "version": 3
   },
   "file_extension": ".py",
   "mimetype": "text/x-python",
   "name": "python",
   "nbconvert_exporter": "python",
   "pygments_lexer": "ipython3",
   "version": "3.8.3"
  }
 },
 "nbformat": 4,
 "nbformat_minor": 5
}
