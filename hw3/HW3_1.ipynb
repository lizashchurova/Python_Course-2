{
 "cells": [
  {
   "cell_type": "markdown",
   "metadata": {},
   "source": [
    "# Домашнее задание №3"
   ]
  },
  {
   "cell_type": "markdown",
   "metadata": {},
   "source": [
    "### Феоктистова Эмма\n",
    "### 2 курс 3 группа ФиКЛ\n",
    "#### К 24.10.20"
   ]
  },
  {
   "cell_type": "markdown",
   "metadata": {},
   "source": [
    "### Пункт 1"
   ]
  },
  {
   "cell_type": "markdown",
   "metadata": {},
   "source": [
    "Прочитаем наш файл с книгой.\n",
    "Преобразуем текст в формат: только леммы, без знаков препинания, все в нижнем регистре, каждое предложение на отдельной строчке. Создадим новый файл, в который запишем полученные предложения:"
   ]
  },
  {
   "cell_type": "code",
   "execution_count": 2,
   "metadata": {},
   "outputs": [],
   "source": [
    "import re\n",
    "from nltk import tokenize\n",
    "from pymystem3 import Mystem\n",
    "m = Mystem()\n",
    "\n",
    "with open('lostworld.txt', encoding='utf-8') as file:\n",
    "    text = file.read()\n",
    "    text = text.lower()\n",
    "\n",
    "with open('cleaned_lw.txt', 'w', encoding='utf-8') as file:\n",
    "    sentences = tokenize.sent_tokenize(text)\n",
    "    pattern1 = ' +'\n",
    "    pattern2 = '[,.?!-/...]'\n",
    "    for s in sentences:\n",
    "        s = re.sub(pattern1, ' ', s)\n",
    "        s = re.sub(pattern2, '', s)\n",
    "        lemmas = m.lemmatize(s)\n",
    "        lemmas = ''.join(lemmas)\n",
    "        file.write(lemmas)\n"
   ]
  },
  {
   "cell_type": "markdown",
   "metadata": {},
   "source": [
    "### Пункт 2"
   ]
  },
  {
   "cell_type": "markdown",
   "metadata": {},
   "source": [
    "Обучим нашу модель:"
   ]
  },
  {
   "cell_type": "code",
   "execution_count": 3,
   "metadata": {},
   "outputs": [],
   "source": [
    "import gensim\n",
    "\n",
    "file = 'cleaned_lw.txt'\n",
    "data = gensim.models.word2vec.LineSentence(file)\n",
    "model_lw = gensim.models.Word2Vec(data, size=300, window=5, min_count=5, iter=50)"
   ]
  },
  {
   "cell_type": "code",
   "execution_count": 4,
   "metadata": {},
   "outputs": [
    {
     "name": "stdout",
     "output_type": "stream",
     "text": [
      "Слов в модели: 1792\n"
     ]
    }
   ],
   "source": [
    "print('Слов в модели:', len(model_lw.wv.vocab))"
   ]
  },
  {
   "cell_type": "code",
   "execution_count": 5,
   "metadata": {
    "scrolled": true
   },
   "outputs": [
    {
     "name": "stdout",
     "output_type": "stream",
     "text": [
      "['а', 'адрес', 'аист', 'альбом', 'амазонка', 'америка', 'американец', 'американский', 'английский', 'англия', 'аплодисменты', 'аппарат', 'аспидночерный', 'атака', 'аудитория', 'ах', 'б', 'бабочка', 'базальтовый', 'бамбук', 'бамбуковый', 'банка', 'барабан', 'бас', 'бегство', 'беда', 'бедняга', 'бежать', 'без', 'бездна', 'безобидный', 'безобразие', 'безусловно', 'белый', 'берег', 'беседа', 'бесполезный', 'бинокль', 'битва', 'благодарность', 'благодаря', 'блеснуть', 'блестящий', 'близкий', 'близко', 'бог', 'богатый', 'боевой', 'боже', 'бой', 'бок', 'более', 'болото', 'боль', 'больше', 'больший', 'большой', 'борода', 'борьба', 'бояться', 'бред', 'бровь', 'бросать', 'бросаться', 'будто', 'будущий', 'буквально', 'бумага', 'бурный', 'бы', 'бывать', 'было', 'быстро', 'быть', 'в', 'важный', 'валяться', 'ваш', 'вверх', 'вглядываться', 'вдали', 'вдоль', 'вдруг', 'ведь', 'вейсман', 'век', 'великий', 'великолепный', 'величественный', 'величина', 'веревка', 'верить', 'верно', 'вернуться', 'верный', 'вероятно', 'вероятность', 'вершина', 'веселый', 'вести', 'весь', 'весьма', 'ветвь', 'ветер', 'ветка', 'вечер', 'вещественный', 'вещь', 'взбираться', 'взгляд', 'взглядывать', 'вздрагивать', 'взмахивать', 'взмыть', 'взор', 'взрослый', 'взять', 'взяться', 'вид', 'видеть', 'видимо', 'виднеться', 'видно', 'видный', 'визит', 'винтовка', 'вместе', 'вместо', 'внешний', 'внешность', 'вниз', 'внизу', 'внимание', 'внимательно', 'вносить', 'внушительный', 'во', 'вовремя', 'вода', 'военный', 'вождь', 'возвращаться', 'возвращение', 'воздух', 'воздушный', 'возле', 'возможно', 'возможность', 'возникать', 'возражать', 'воин', 'вой', 'война', 'вокруг', 'волнение', 'волос', 'волосатый', 'волшебный', 'воля', 'вон', 'воображение', 'вообще', 'вопль', 'вопрос', 'восемь', 'восклицать', 'воспользоваться', 'воспоминание', 'восседать', 'восток', 'восторг', 'восточный', 'вот', 'впервые', 'вперед', 'впереди', 'впечатление', 'вполне', 'впрочем', 'враг', 'время', 'вроде', 'вручать', 'вряд', 'все', 'всегда', 'всего', 'всетака', 'вскакивать', 'вскоре', 'вскрикивать', 'вскрывать', 'вслед', 'вспоминать', 'вспомнить', 'вспышка', 'вставать', 'встреча', 'встречать', 'встречаться', 'всякий', 'всяческий', 'второй', 'вулканический', 'вход', 'входить', 'вчера', 'вы', 'выбирать', 'выбираться', 'вывод', 'выводить', 'выглядывать', 'выдерживать', 'вызывать', 'вынимать', 'выполнять', 'выпячивать', 'выражать', 'выражаться', 'вырастать', 'высказывать', 'выслушивать', 'высокий', 'высоко', 'высота', 'выстрел', 'выступать', 'вытаскивать', 'выход', 'выходить', 'выясняться', 'газ', 'газета', 'галстук', 'где', 'гдеть', 'гейзер', 'генри', 'герой', 'гибель', 'гигант', 'гигантский', 'гингко', 'глава', 'главный', 'гладкий', 'глаз', 'глина', 'глубина', 'глубокий', 'глубоко', 'глупый', 'глухой', 'глыба', 'глэдис', 'глядеть', 'глянуть', 'гнев', 'говорить', 'год', 'голова', 'головка', 'голос', 'голубой', 'гомес', 'гораздо', 'гордость', 'гореть', 'горизонт', 'горный', 'город', 'горячий', 'господи', 'гостиная', 'готовиться', 'готовый', 'граница', 'грозный', 'громкий', 'громко', 'грудь', 'грузный', 'группа', 'гряда', 'губа', 'гул', 'густой', 'да', 'давать', 'давно', 'даже', 'далее', 'далекий', 'далеко', 'дальнейший', 'данные', 'данный', 'два', 'двадцать', 'дверь', 'движение', 'двинуться', 'двое', 'деваться', 'дейлигазетта', 'действие', 'действительно', 'действовать', 'делать', 'дело', 'день', 'деньги', 'дерево', 'держать', 'держаться', 'десять', 'детеныш', 'джентльмен', 'джон', 'джордж', 'джунгли', 'дикарь', 'дикий', 'диковинный', 'динозавр', 'длина', 'длинный', 'для', 'дно', 'до', 'добавлять', 'добиваться', 'добираться', 'добрый', 'добывать', 'добыча', 'доводить', 'довольно', 'догадываться', 'дождь', 'доисторический', 'доказательство', 'доказывать', 'доклад', 'доктор', 'долг', 'долгий', 'долго', 'должно', 'должный', 'долина', 'доля', 'дом', 'домой', 'доноситься', 'допускать', 'дорога', 'дорогой', 'доставлять', 'достаточно', 'достигать', 'достоинство', 'достойный', 'доходить', 'древовидный', 'дрожать', 'друг', 'другой', 'дубинка', 'думать', 'дух', 'душа', 'дыхание', 'дьявол', 'европа', 'европеец', 'его', 'единственный', 'единый', 'ее', 'еле', 'если', 'еще', 'ж', 'жаба', 'жалкий', 'ждать', 'же', 'желание', 'желать', 'желтый', 'жена', 'женщина', 'жертва', 'живой', 'животное', 'животный', 'жизнь', 'жить', 'за', 'забывать', 'заваливать', 'зависеть', 'завоевывать', 'завтра', 'завтрак', 'загадочный', 'заглядывать', 'задача', 'задерживать', 'задерживаться', 'задержка', 'задний', 'заканчивать', 'заканчиваться', 'заключаться', 'закрывать', 'зал', 'заливать', 'замахать', 'замечание', 'замечательный', 'замечать', 'замирать', 'занести', 'занимать', 'заниматься', 'запад', 'запас', 'записывать', 'запись', 'запоминать', 'заранее', 'заросль', 'заседание', 'заслуживать', 'заставлять', 'затвор', 'затевать', 'затем', 'затихать', 'зато', 'затылок', 'захватить', 'зачем', 'зашагать', 'защита', 'заявлять', 'звезда', 'звено', 'зверь', 'звук', 'звучать', 'здесь', 'здешний', 'здравый', 'зеленый', 'зелень', 'земля', 'земной', 'злобный', 'злой', 'змея', 'знак', 'знакомство', 'знакомый', 'знаменитый', 'знание', 'знать', 'значит', 'значить', 'золотой', 'зоолог', 'зоологический', 'зоология', 'зрелище', 'зрение', 'зря', 'зуб', 'и', 'ибо', 'игра', 'играть', 'игуанодон', 'идти', 'из', 'избегать', 'известно', 'известный', 'извлекать', 'изгородь', 'изза', 'излагать', 'изложение', 'изменять', 'изменяться', 'изогнутый', 'изпод', 'изумление', 'или', 'иллингворт', 'именно', 'иметь', 'иметься', 'имущество', 'имя', 'иначе', 'индеец', 'индейский', 'иной', 'инстинкт', 'институт', 'интервью', 'интерес', 'интересный', 'ирландский', 'искать', 'исполинский', 'испытание', 'испытывать', 'исследователь', 'истина', 'истинный', 'история', 'источник', 'исчезать', 'исчерпывать', 'итак', 'их', 'к', 'кабинет', 'каждый', 'кажется', 'казаться', 'как', 'какиенибудь', 'какието', 'каков', 'какогонибудь', 'какогото', 'какоенибудь', 'какоето', 'какой', 'какойнибудь', 'какойто', 'както', 'каменистый', 'каменный', 'камень', 'канат', 'карабкаться', 'карандаш', 'карман', 'карта', 'картина', 'касаться', 'качать', 'качество', 'квадратный', 'кверху', 'кишеть', 'клещ', 'клуб', 'клык', 'клюв', 'книга', 'книжка', 'ко', 'ковер', 'когда', 'когданибудь', 'коегде', 'коекакий', 'коечто', 'кожа', 'кожаный', 'кой', 'кол', 'колено', 'коллега', 'коллекция', 'кольцо', 'колючий', 'комиссия', 'комната', 'конверт', 'конец', 'конечно', 'кончаться', 'копье', 'кора', 'коробка', 'короткий', 'корреспондент', 'костер', 'косточка', 'кость', 'который', 'кошмар', 'край', 'крайне', 'крайний', 'красноватый', 'краснокожий', 'красный', 'кратер', 'крепкий', 'кресло', 'крик', 'крик:', 'крикнуть', 'кричать', 'кровь', 'кроме', 'крохотный', 'круг', 'кругом', 'крупный', 'крутой', 'крыло', 'кряж', 'кстати', 'кто', 'ктонибудь', 'ктото', 'куда', 'кудатый', 'куинсхолл', 'кулак', 'куртка', 'курупури', 'кусок', 'куст', 'кустарник', 'кучка', 'лагерь', 'ладонь', 'лапа', 'легкий', 'легко', 'леди', 'лежать', 'лезть', 'лектор', 'лекция', 'лес', 'лесной', 'летучий', 'лжец', 'ли', 'лиана', 'либо', 'линия', 'лист', 'листва', 'лицо', 'лично', 'личный', 'лишний', 'лишь', 'лоб', 'ложиться', 'ломать', 'лондон', 'лорд', 'лохмотья', 'лужа', 'луна', 'лунный', 'луч', 'любезность', 'любезный', 'любимый', 'любить', 'любовь', 'любой', 'любопытный', 'макардла', 'маленький', 'мало', 'малопомалу', 'малый', 'манаус', 'манера', 'масса', 'материал', 'медленно', 'между', 'мелкий', 'мелоун', 'мелькнуть', 'менее', 'меньший', 'меплуайт', 'мера', 'мерещиться', 'мертвый', 'местность', 'место', 'месяц', 'метис', 'мечтать', 'мешать', 'мешок', 'миг', 'милый', 'миля', 'миновать', 'минута', 'мир', 'мирно', 'миссис', 'мистер', 'многий', 'много', 'множество', 'могучий', 'может', 'можно', 'мозг', 'мой', 'молодой', 'молодость', 'молча', 'молчание', 'момент', 'морда', 'морской', 'мост', 'мочь', 'мощный', 'мрак', 'мрачный', 'муж', 'мужество', 'мужчина', 'музей', 'мы', 'мысль', 'мышь', 'мягкий', 'мясо', 'на', 'набивать', 'наблюдать', 'наблюдение', 'набросок', 'наверно', 'нависать', 'навсегда', 'навстречу', 'нагибаться', 'наглый', 'нагрянуть', 'над', 'надежда', 'надежный', 'надеяться', 'надо', 'назад', 'название', 'называть', 'наконец', 'наконецто', 'наличие', 'нападение', 'нападывать', 'написать', 'напоминать', 'направление', 'например', 'нарисовать', 'народ', 'нарушать', 'насекомое', 'населять', 'насколько', 'наставать', 'настигать', 'настолько', 'настоящий', 'настраивать', 'наступать', 'наткнуться', 'натура', 'наука', 'научный', 'находить', 'находиться', 'начало', 'начинать', 'начинаться', 'наш', 'не', 'небо', 'небольшой', 'неведомый', 'невежество', 'невероятный', 'невольно', 'невредимый', 'негатив', 'негр', 'недалеко', 'неделя', 'недоверие', 'недостаток', 'неизведанный', 'неизвестный', 'некоторые', 'некоторый', 'нелепый', 'нельзя', 'немедленно', 'немного', 'немой', 'ненависть', 'необходимость', 'необходимый', 'необычайно', 'необычайный', 'необычный', 'неожиданный', 'неприятный', 'нерв', 'неровный', 'несколько', 'несмотря', 'несомненно', 'нести', 'нестись', 'несчастие', 'несчастный', 'нет', 'неужели', 'нечего', 'нечто', 'ни', 'нижний', 'низкий', 'низко', 'никак', 'никакой', 'никогда', 'никто', 'ничто', 'но', 'новость', 'новый', 'нога', 'нож', 'нос', 'носить', 'ночной', 'ночь', 'ну', 'нужда', 'нужно', 'нужный', 'нус', 'о', 'об', 'оба', 'обезьяна', 'обезьяний', 'обещать', 'обитатель', 'обитать', 'обладать', 'область', 'облик', 'обломок', 'обнаруживать', 'обо', 'образ', 'обратно', 'обратный', 'обращать', 'обращаться', 'обрыв', 'обследовать', 'обстоятельство', 'обстоять', 'обсуждать', 'обход', 'обходить', 'обходиться', 'общество', 'общий', 'объявлять', 'объяснение', 'объяснять', 'объясняться', 'обыкновенный', 'обычно', 'обычный', 'обязанный', 'обязывать', 'оглушительный', 'оглянуться', 'огонь', 'ограда', 'ограничиваться', 'огромный', 'одежда', 'одеяло', 'один', 'один:', 'однако', 'одолевать', 'ожидать', 'озеро', 'ознакомляться', 'оказывать', 'оказываться', 'окаймлять', 'окно', 'около', 'окончательно', 'окружать', 'олбень', 'омерзительный', 'он', 'она', 'они', 'оно', 'опасность', 'опасный', 'описание', 'описывать', 'определять', 'опускать', 'опускаться', 'опыт', 'опять', 'оружие', 'освещать', 'оскорбительный', 'основание', 'особенно', 'особенность', 'особый', 'оставаться', 'оставлять', 'остальное', 'остальной', 'останавливаться', 'остин', 'осторожно', 'осторожность', 'острый', 'от', 'отблеск', 'отверстие', 'отвесный', 'ответ', 'отвечать', 'отвешивать', 'отводить', 'отвратительный', 'отдавать', 'отдельный', 'отделять', 'отказываться', 'откидываться', 'откос', 'открывать', 'открываться', 'открытие', 'открытый', 'откуда', 'отливать', 'отличаться', 'отмель', 'отмечать', 'относить', 'относиться', 'отношение', 'отныне', 'отправлять', 'отправляться', 'отражаться', 'отрезать', 'отсутствие', 'отсюда', 'отталкивать', 'оттуда', 'отходить', 'отчет', 'отыскивать', 'охота', 'охотиться', 'охотник', 'охотно', 'очевидно', 'очень', 'очередь', 'очутиться', 'ошибаться', 'ощущение', 'палец', 'пальма', 'память', 'папоротник', 'пара', 'пароход', 'партия', 'пасть', 'патрон', 'первобытный', 'первый', 'перебираться', 'перебрасывать', 'перевертывать', 'переводить', 'перед', 'передавать', 'передвигаться', 'передний', 'передо', 'перенести', 'перепончатый', 'переставать', 'перетаскивать', 'переходить', 'период', 'перо', 'песчаный', 'печать', 'пещера', 'пирамидальный', 'писать', 'письмо', 'план', 'планета', 'плато', 'племя', 'пленка', 'плечо', 'плоский', 'плотоядный', 'плохо', 'плохой', 'по', 'победа', 'побежать', 'поблескивать', 'побрести', 'побывать', 'повертывать', 'повертываться', 'поверхность', 'поверять', 'повествование', 'повидеть', 'повидимый', 'повиноваться', 'повод', 'поводить', 'повторять', 'погибать', 'поглаживать', 'поглядывать', 'погружаться', 'под', 'подбегать', 'подбородок', 'подвиг', 'поддерживать', 'поделиться', 'подниматься', 'подножие', 'подобно', 'подобный', 'подождать', 'подозревать', 'подробно', 'подробный', 'подстреливать', 'подтверждать', 'подтверждение', 'подумать', 'подходить', 'подъем', 'подымать', 'поездка', 'пожалуй', 'пожалуйста', 'пожимать', 'позади', 'позволять', 'поздно', 'поиск', 'пойти', 'пока', 'показывать', 'показываться', 'покидать', 'поклон', 'покой', 'покрывать', 'полагать', 'полагаться', 'полдень', 'поле', 'полисмен', 'полный', 'половина', 'положение', 'получать', 'полчаса', 'пользоваться', 'поляна', 'помнить', 'помогать', 'помоему', 'помощь', 'понадобиться', 'понимать', 'понятие', 'попадать', 'попадаться', 'пополнять', 'поправка', 'попрежнему', 'попрежний', 'попытка', 'пора', 'поражать', 'порастать', 'порог', 'поручать', 'порядок', 'посвящать', 'поселок', 'поскольку', 'после', 'последний', 'последовать', 'послужить', 'послышаться', 'посмотреть', 'поставлять', 'постараться', 'постепенно', 'постигать', 'поступок', 'посылать', 'потерять', 'потом', 'потому', 'потребоваться', 'потрясать', 'похвала', 'поход', 'похожий', 'почему', 'почти', 'почувствовать', 'поэтому', 'появление', 'появляться', 'пояс', 'правда', 'правильно', 'правильный', 'право', 'правота', 'правый', 'превращаться', 'преданный', 'предел', 'предлагать', 'предложение', 'предоставлять', 'предполагать', 'предположение', 'предпринимать', 'председатель', 'представать', 'представитель', 'представление', 'представлять', 'представляться', 'предстоять', 'предшественник', 'предъявлять', 'прежде', 'прежний', 'презрительно', 'прекрасно', 'прекрасный', 'преодолевать', 'препятствие', 'прерывать', 'преследователь', 'преследовать', 'пресмыкающееся', 'при', 'привлекать', 'приводить', 'привязывать', 'приглашать', 'признавать', 'признаваться', 'признак', 'прийти', 'приключение', 'прикрывать', 'примерно', 'принадлежать', 'принимать', 'приниматься', 'приносить', 'припадать', 'природа', 'присоединяться', 'приступать', 'присутствие', 'присутствовать', 'присутствующий', 'присущий', 'приток', 'приходить', 'приходиться', 'причем', 'причинять', 'пробираться', 'проблема', 'проверять', 'провизия', 'проводить', 'прогалина', 'проговаривать', 'прогудеть', 'проделывать', 'продолжать', 'производить', 'происходить', 'происшествие', 'пройти', 'пронестись', 'пронзительный', 'проникать', 'пропасть', 'просить', 'просто', 'простой', 'пространство', 'против', 'противник', 'протягивать', 'профессор', 'проходить', 'процесс', 'прочь', 'прошлый', 'прощать', 'проявлять', 'прыжок', 'прямо', 'прямой', 'птеродактиль', 'птица', 'публика', 'пуля', 'пускать', 'пускаться', 'пусть', 'путешественник', 'путешествие', 'путь', 'пытаться', 'пышный', 'пятно', 'пять', 'пятьдесят', 'работа', 'равнина', 'равный', 'рад', 'ради', 'радость', 'раз', 'разбивать', 'разве', 'разведка', 'развитие', 'разгадывать', 'разглядеть', 'разговор', 'раздаваться', 'раздумывать', 'размахивать', 'размер', 'разный', 'разражаться', 'разрешать', 'разрешение', 'разумеется', 'разыгрываться', 'ранний', 'рано', 'раса', 'распространять', 'рассвет', 'рассказ', 'рассказывать', 'расследование', 'рассмеяться', 'расстояние', 'рассчитывать', 'растерзывать', 'расти', 'растительность', 'расчет', 'расщелина', 'рев', 'редактор', 'редакция', 'редеть', 'резко', 'результат', 'река', 'ремень', 'репортер', 'речь', 'решать', 'решительно', 'риджентстрит', 'ринуться', 'риск', 'рисковать', 'рисунок', 'ровный', 'род', 'розовый', 'рокстон', 'роль', 'рост', 'рот', 'рубашка', 'ружье', 'рука', 'рухнуть', 'ручей', 'рыба', 'рыжий', 'ряд', 'рядом', 'с', 'садиться', 'сам', 'самбо', 'саммерля', 'самый', 'сваливаться', 'сведение', 'свежий', 'сверкать', 'сверкнуть', 'свет', 'свидетельствовать', 'свинья', 'свирепый', 'свист', 'свободный', 'свод', 'сводить', 'свой', 'свойственный', 'связывать', 'связь', 'сдаваться', 'сделать', 'сдерживать', 'себя', 'сегодня', 'сегодняшний', 'сей', 'сейчас', 'секунда', 'семь', 'сердце', 'серебряный', 'середина', 'серый', 'серьезный', 'сигара', 'сидеть', 'сила', 'сильно', 'сильный', 'синий', 'сказать', 'скала', 'скандал', 'сквозь', 'скелет', 'склад', 'склон', 'сколько', 'скоро', 'скромный', 'скрывать', 'скрываться', 'слабый', 'слава', 'след', 'следить', 'следовательно', 'следовать', 'следующий', 'следующий:', 'сливаться', 'слишком', 'словно', 'слово', 'словом', 'слон', 'служить', 'слух', 'случай', 'случаться', 'слушатель', 'слушать', 'слыхать', 'слышать', 'смелый', 'смерть', 'смех', 'смотреть', 'смочь', 'смуглый', 'смущать', 'смысл', 'снаряжение', 'сначала', 'снизу', 'снимать', 'снимок', 'снова', 'со', 'собирать', 'собираться', 'соблаговолять', 'собрание', 'собрат', 'собственный', 'событие', 'совершать', 'совершенно', 'совет', 'современный', 'совсем', 'согласный', 'соглашаться', 'солнце', 'сомневаться', 'сомнение', 'сон', 'соображать', 'соображение', 'сообщать', 'соперник', 'сорок', 'состояние', 'состоять', 'сотня', 'сохранять', 'сохраняться', 'союзник', 'спасать', 'спать', 'спина', 'спинка', 'сплошной', 'спокойно', 'спокойный', 'спокойствие', 'спор', 'спорить', 'способ', 'способный', 'справляться', 'спрашивать', 'спуск', 'спускаться', 'спустя', 'спутник', 'сразу', 'среда', 'среди', 'средний', 'срываться', 'сталкиваться', 'становиться', 'стараться', 'старик', 'старый', 'статья', 'ствол', 'стена', 'степень', 'сто', 'стоить', 'стол', 'столь', 'столько', 'сторона', 'стоянка', 'стоять', 'страна', 'страница', 'странный', 'страх', 'страшно', 'страшный', 'стрела', 'стрелять', 'студент', 'стул', 'ступать', 'ступенька', 'субъект', 'судить', 'судно', 'судьба', 'судя', 'сук', 'суровый', 'сухой', 'существо', 'существование', 'существовать', 'схватывать', 'сходить', 'сходство', 'сцена', 'счастие', 'счастливый', 'счесть', 'счет', 'считать', 'сэр', 'сюда', 'таинственный', 'таиться', 'тайна', 'так', 'также', 'таков', 'такой', 'такт', 'там', 'тарп', 'тварь', 'твердо', 'твердый', 'тезис', 'тело', 'тем', 'тема', 'темнота', 'темный', 'тень', 'теория', 'теперь', 'терять', 'течение', 'тихий', 'тихо', 'тишина', 'то', 'товарищ', 'тогда', 'тоже', 'толпа', 'толстый', 'только', 'тон', 'тонкий', 'тоннель', 'топь', 'торжественный', 'тот', 'тотчас', 'точка', 'точно', 'точный', 'трава', 'тратить', 'требовать', 'требоваться', 'треск', 'третий', 'три', 'тридцать', 'трое', 'тропинка', 'тропический', 'тростник', 'трубка', 'труд', 'трудно', 'трудный', 'труп', 'туда', 'туземец', 'тут', 'ты', 'тысяча', 'тьма', 'тяжелый', 'тяжесть', 'тянуться', 'у', 'убеждать', 'убеждаться', 'убежище', 'убивать', 'уважение', 'уверенность', 'уверенный', 'уверять', 'увидеть', 'угодно', 'угол', 'угроза', 'удаваться', 'удар', 'удерживать', 'удивительный', 'удивление', 'уж', 'ужас', 'уже', 'ужин', 'узкий', 'узнавать', 'указывать', 'укладывать', 'уклон', 'улица', 'улыбаться', 'улыбка', 'ум', 'умирать', 'умственный', 'уносить', 'уолдрон', 'упасть', 'упоминать', 'уровень', 'усадить', 'условие', 'услышать', 'успевать', 'успех', 'устанавливать', 'устремлять', 'уступать', 'утверждать', 'утверждение', 'утес', 'утро', 'ухо', 'уходить', 'уцелеть', 'участь', 'ученый', 'ущелие', 'факел', 'факт', 'фигура', 'фигурка', 'физиономия', 'форма', 'форт', 'фотографический', 'фотография', 'фраза', 'фут', 'характер', 'характерный', 'хватать', 'хватить', 'хижина', 'хищник', 'ход', 'ходить', 'хозяин', 'холм', 'холодный', 'хороший', 'хорошо', 'хотеть', 'хотеться', 'хоть', 'хотя', 'хранить', 'художник', 'худой', 'царек', 'цвет', 'цветок', 'целый', 'цель', 'центр', 'центральный', 'цепь', 'цивилизованный', 'час', 'часовой', 'часто', 'часть', 'часы', 'чаща', 'чейто', 'челленджер', 'челн', 'человек', 'человекообезьяна', 'человеческий', 'чем', 'чемто', 'через', 'череп', 'черный', 'черта', 'честный', 'честь', 'четверо', 'четыре', 'число', 'чистый', 'читатель', 'член', 'чрезвычайно', 'что', 'чтобы', 'чтонибудь', 'чтото', 'чувство', 'чувствовать', 'чудесный', 'чудо', 'чудовище', 'чудовищный', 'чуть', 'шаг', 'шар', 'шарлатан', 'шепнуть', 'шесть', 'шея', 'ширина', 'широкий', 'шкура', 'шляпа', 'шорох', 'шум', 'шутка', 'щека', 'эволюция', 'эдуард', 'экземпляр', 'экспедиция', 'энморпарк', 'эсмеральда', 'эстрада', 'это', 'этот', 'южный', 'юноша', 'юный', 'юрский', 'я', 'являться', 'явно', 'ядовитый', 'язык', 'яма', 'ярд', 'яркий', 'яростно', 'яростный', 'ясно', 'ясный', 'ящер', 'ящик']\n"
     ]
    }
   ],
   "source": [
    "print(sorted([w for w in model_lw.wv.vocab]))"
   ]
  },
  {
   "cell_type": "markdown",
   "metadata": {},
   "source": [
    "### Пункт 3"
   ]
  },
  {
   "cell_type": "markdown",
   "metadata": {},
   "source": [
    "#### _Пункт 3.1_:\n",
    "а) Выведем 5 ближайших слов для частотного союза _'а'_:"
   ]
  },
  {
   "cell_type": "code",
   "execution_count": 6,
   "metadata": {},
   "outputs": [
    {
     "data": {
      "text/plain": [
       "[('сначала', 0.5755279064178467),\n",
       " ('идти', 0.5734481811523438),\n",
       " ('спасать', 0.44370022416114807),\n",
       " ('часовой', 0.42363089323043823),\n",
       " ('повиноваться', 0.4159165024757385)]"
      ]
     },
     "execution_count": 6,
     "metadata": {},
     "output_type": "execute_result"
    }
   ],
   "source": [
    "model_lw.wv.most_similar(\"а\", topn=5)"
   ]
  },
  {
   "cell_type": "markdown",
   "metadata": {},
   "source": [
    "б) Выведем 5 ближайших слов для абстрактного понятия _'любовь'_:"
   ]
  },
  {
   "cell_type": "code",
   "execution_count": 7,
   "metadata": {},
   "outputs": [
    {
     "data": {
      "text/plain": [
       "[('мужчина', 0.820957601070404),\n",
       " ('ознакомляться', 0.8028438091278076),\n",
       " ('истинный', 0.8024759292602539),\n",
       " ('бывать', 0.788398027420044),\n",
       " ('лжец', 0.7819290161132812)]"
      ]
     },
     "execution_count": 7,
     "metadata": {},
     "output_type": "execute_result"
    }
   ],
   "source": [
    "model_lw.wv.most_similar(\"любовь\", topn=5)"
   ]
  },
  {
   "cell_type": "markdown",
   "metadata": {},
   "source": [
    "в) Выведем 5 ближайших слов для имени главного героя _'челленджер'_:"
   ]
  },
  {
   "cell_type": "code",
   "execution_count": 8,
   "metadata": {},
   "outputs": [
    {
     "data": {
      "text/plain": [
       "[('саммерля', 0.7904132604598999),\n",
       " ('знаменитый', 0.7107104063034058),\n",
       " ('грозный', 0.7084172964096069),\n",
       " ('иллингворт', 0.6565958261489868),\n",
       " ('ответ', 0.6551932692527771)]"
      ]
     },
     "execution_count": 8,
     "metadata": {},
     "output_type": "execute_result"
    }
   ],
   "source": [
    "model_lw.wv.most_similar(\"челленджер\", topn=5)"
   ]
  },
  {
   "cell_type": "markdown",
   "metadata": {},
   "source": [
    "г) Выведем 5 ближайших слов для прилагательных _'известный'_ и _'неизвестный'_ (встретилось много синонимов и антонимов):"
   ]
  },
  {
   "cell_type": "code",
   "execution_count": 9,
   "metadata": {},
   "outputs": [
    {
     "data": {
      "text/plain": [
       "[('благодаря', 0.8826519250869751),\n",
       " ('необычный', 0.8255703449249268),\n",
       " ('явно', 0.808169960975647),\n",
       " ('доисторический', 0.8051211833953857),\n",
       " ('зоология', 0.8018572330474854)]"
      ]
     },
     "execution_count": 9,
     "metadata": {},
     "output_type": "execute_result"
    }
   ],
   "source": [
    "model_lw.wv.most_similar(positive=['известный', 'неизвестный'], topn=5)"
   ]
  },
  {
   "cell_type": "markdown",
   "metadata": {},
   "source": [
    "#### _Пункт 3.2_:\n",
    "Семантическая пропорция слов _'мистер'_ и _'женщина'_ (просто интересно посмотреть):"
   ]
  },
  {
   "cell_type": "code",
   "execution_count": 28,
   "metadata": {},
   "outputs": [
    {
     "name": "stdout",
     "output_type": "stream",
     "text": [
      "('лектор', 0.6443533897399902)\n"
     ]
    }
   ],
   "source": [
    "print(model_lw.wv.most_similar(positive=[\"мистер\", \"мужчина\"], negative=['женщина'])[0])"
   ]
  },
  {
   "cell_type": "markdown",
   "metadata": {},
   "source": [
    "#### _Пункт 3.3_:\n",
    "Найти лишнее в списке слов:"
   ]
  },
  {
   "cell_type": "code",
   "execution_count": 11,
   "metadata": {},
   "outputs": [
    {
     "name": "stderr",
     "output_type": "stream",
     "text": [
      "/Library/Frameworks/Python.framework/Versions/3.8/lib/python3.8/site-packages/gensim/models/keyedvectors.py:877: FutureWarning: arrays to stack must be passed as a \"sequence\" type such as list or tuple. Support for non-sequence iterables such as generators is deprecated as of NumPy 1.16 and will raise an error in the future.\n",
      "  vectors = vstack(self.word_vec(word, use_norm=True) for word in used_words).astype(REAL)\n"
     ]
    },
    {
     "data": {
      "text/plain": [
       "'любовь'"
      ]
     },
     "execution_count": 11,
     "metadata": {},
     "output_type": "execute_result"
    }
   ],
   "source": [
    "model_lw.wv.doesnt_match(\"птица ящер любовь змея\".split())"
   ]
  },
  {
   "cell_type": "markdown",
   "metadata": {},
   "source": [
    "### Пункт 4"
   ]
  },
  {
   "cell_type": "markdown",
   "metadata": {},
   "source": [
    "#### _Пункт 4.1_:"
   ]
  },
  {
   "cell_type": "code",
   "execution_count": 12,
   "metadata": {},
   "outputs": [],
   "source": [
    "from sklearn.decomposition import PCA\n",
    "import matplotlib.pyplot as plt\n",
    "%matplotlib inline"
   ]
  },
  {
   "cell_type": "code",
   "execution_count": 13,
   "metadata": {},
   "outputs": [
    {
     "name": "stderr",
     "output_type": "stream",
     "text": [
      "<ipython-input-13-a6a8dc5abeb0>:2: DeprecationWarning: Call to deprecated `__getitem__` (Method will be removed in 4.0.0, use self.wv.__getitem__() instead).\n",
      "  X = model_lw[words]\n"
     ]
    }
   ],
   "source": [
    "words = [\"челленджер\", \"саммерля\", \"самбо\", \"рокстон\", \"глэдис\"]\n",
    "X = model_lw[words]"
   ]
  },
  {
   "cell_type": "code",
   "execution_count": 14,
   "metadata": {},
   "outputs": [
    {
     "name": "stderr",
     "output_type": "stream",
     "text": [
      "<ipython-input-14-a82a6682a1ae>:2: DeprecationWarning: Call to deprecated `__getitem__` (Method will be removed in 4.0.0, use self.wv.__getitem__() instead).\n",
      "  pca.fit(model_lw[list(model_lw.wv.vocab)])\n",
      "<ipython-input-14-a82a6682a1ae>:3: DeprecationWarning: Call to deprecated `__getitem__` (Method will be removed in 4.0.0, use self.wv.__getitem__() instead).\n",
      "  coords = pca.transform(model_lw[words])\n"
     ]
    }
   ],
   "source": [
    "pca = PCA(n_components=2)\n",
    "pca.fit(model_lw[list(model_lw.wv.vocab)])\n",
    "coords = pca.transform(model_lw[words])"
   ]
  },
  {
   "cell_type": "code",
   "execution_count": 15,
   "metadata": {},
   "outputs": [
    {
     "data": {
      "image/png": "[encoded data removed]",
      "text/plain": [
       "<Figure size 432x288 with 1 Axes>"
      ]
     },
     "metadata": {
      "needs_background": "light"
     },
     "output_type": "display_data"
    }
   ],
   "source": [
    "plt.scatter(coords[:, 0], coords[:, 1], color='red')\n",
    "plt.title('Words')\n",
    "\n",
    "for i, word in enumerate(words):\n",
    "    plt.annotate(word, xy=(coords[i, 0], coords[i, 1]))\n",
    "plt.show()"
   ]
  },
  {
   "cell_type": "markdown",
   "metadata": {},
   "source": [
    "_**Пункт 4.2:**_"
   ]
  },
  {
   "cell_type": "code",
   "execution_count": 16,
   "metadata": {},
   "outputs": [
    {
     "name": "stderr",
     "output_type": "stream",
     "text": [
      "<ipython-input-16-999d2d06a9d9>:2: DeprecationWarning: Call to deprecated `__getitem__` (Method will be removed in 4.0.0, use self.wv.__getitem__() instead).\n",
      "  X = model_lw[animals]\n"
     ]
    }
   ],
   "source": [
    "animals = [\"игуанодон\", \"человекообезьяна\", \"ящер\", \"птица\", \"обезьяна\"]\n",
    "X = model_lw[animals]"
   ]
  },
  {
   "cell_type": "code",
   "execution_count": 17,
   "metadata": {},
   "outputs": [
    {
     "name": "stderr",
     "output_type": "stream",
     "text": [
      "<ipython-input-17-5127f01afa2d>:2: DeprecationWarning: Call to deprecated `__getitem__` (Method will be removed in 4.0.0, use self.wv.__getitem__() instead).\n",
      "  pca.fit(model_lw[list(model_lw.wv.vocab)])\n",
      "<ipython-input-17-5127f01afa2d>:3: DeprecationWarning: Call to deprecated `__getitem__` (Method will be removed in 4.0.0, use self.wv.__getitem__() instead).\n",
      "  coords = pca.transform(model_lw[animals])\n"
     ]
    }
   ],
   "source": [
    "pca = PCA(n_components=2)\n",
    "pca.fit(model_lw[list(model_lw.wv.vocab)])\n",
    "coords = pca.transform(model_lw[animals])"
   ]
  },
  {
   "cell_type": "code",
   "execution_count": 18,
   "metadata": {},
   "outputs": [
    {
     "data": {
      "image/png": "[encoded data removed]",
      "text/plain": [
       "<Figure size 432x288 with 1 Axes>"
      ]
     },
     "metadata": {
      "needs_background": "light"
     },
     "output_type": "display_data"
    }
   ],
   "source": [
    "plt.scatter(coords[:, 0], coords[:, 1], color='orange')\n",
    "plt.title('Animals')\n",
    "\n",
    "for i, animal in enumerate(animals):\n",
    "    plt.annotate(animal, xy=(coords[i, 0], coords[i, 1]))\n",
    "plt.show()"
   ]
  },
  {
   "cell_type": "markdown",
   "metadata": {},
   "source": [
    "_**Пункт 4.3:**_"
   ]
  },
  {
   "cell_type": "code",
   "execution_count": 19,
   "metadata": {},
   "outputs": [
    {
     "name": "stderr",
     "output_type": "stream",
     "text": [
      "<ipython-input-19-021004661beb>:2: DeprecationWarning: Call to deprecated `__getitem__` (Method will be removed in 4.0.0, use self.wv.__getitem__() instead).\n",
      "  X = model_lw[parts]\n"
     ]
    }
   ],
   "source": [
    "parts = ['о', 'об', 'но', 'то']\n",
    "X = model_lw[parts]"
   ]
  },
  {
   "cell_type": "code",
   "execution_count": 20,
   "metadata": {},
   "outputs": [
    {
     "name": "stderr",
     "output_type": "stream",
     "text": [
      "<ipython-input-20-784de440e663>:2: DeprecationWarning: Call to deprecated `__getitem__` (Method will be removed in 4.0.0, use self.wv.__getitem__() instead).\n",
      "  pca.fit(model_lw[list(model_lw.wv.vocab)])\n",
      "<ipython-input-20-784de440e663>:3: DeprecationWarning: Call to deprecated `__getitem__` (Method will be removed in 4.0.0, use self.wv.__getitem__() instead).\n",
      "  coords = pca.transform(model_lw[parts])\n"
     ]
    }
   ],
   "source": [
    "pca = PCA(n_components=2)\n",
    "pca.fit(model_lw[list(model_lw.wv.vocab)])\n",
    "coords = pca.transform(model_lw[parts])"
   ]
  },
  {
   "cell_type": "code",
   "execution_count": 21,
   "metadata": {},
   "outputs": [
    {
     "data": {
      "image/png": "[encoded data removed]",
      "text/plain": [
       "<Figure size 432x288 with 1 Axes>"
      ]
     },
     "metadata": {
      "needs_background": "light"
     },
     "output_type": "display_data"
    }
   ],
   "source": [
    "plt.scatter(coords[:, 0], coords[:, 1], color='green')\n",
    "plt.title('Parts')\n",
    "\n",
    "for i, part in enumerate(parts):\n",
    "    plt.annotate(part, xy=(coords[i, 0], coords[i, 1]))\n",
    "plt.show()"
   ]
  },
  {
   "cell_type": "markdown",
   "metadata": {},
   "source": [
    "### Пункт 5"
   ]
  },
  {
   "cell_type": "markdown",
   "metadata": {},
   "source": [
    "Возьмем любое предложение из текста и заменим каждое слово на ближайшее по вектору. Для этого преобразуем предложение в нужный нам формат:"
   ]
  },
  {
   "cell_type": "code",
   "execution_count": 22,
   "metadata": {},
   "outputs": [
    {
     "name": "stdout",
     "output_type": "stream",
     "text": [
      "вы совсем не ценить что вот мы  молодой мужчина и молодой женщина  мочь так непринужденный говорить друг с друг\n",
      "\n"
     ]
    }
   ],
   "source": [
    "import re\n",
    "from pymystem3 import Mystem\n",
    "m = Mystem()\n",
    "\n",
    "with open('lostworld.txt', encoding='utf-8') as file:\n",
    "    text = file.read()\n",
    "    sentences = tokenize.sent_tokenize(text)\n",
    "    sentence = sentences[40].lower()\n",
    "    s = re.sub(' +', ' ', sentence)\n",
    "    s = re.sub('[,.?!-/...]', '', s)\n",
    "    lemmas = m.lemmatize(s)\n",
    "    sentence = ''.join(lemmas)\n",
    "    print(sentence)"
   ]
  },
  {
   "cell_type": "markdown",
   "metadata": {},
   "source": [
    "Затем добавим в один список ближайшие по векторам слова, если таких нет, то оставим прочерк:"
   ]
  },
  {
   "cell_type": "code",
   "execution_count": 23,
   "metadata": {},
   "outputs": [
    {
     "name": "stderr",
     "output_type": "stream",
     "text": [
      "<ipython-input-23-5020c4149e3b>:4: DeprecationWarning: Call to deprecated `most_similar` (Method will be removed in 4.0.0, use self.wv.most_similar() instead).\n",
      "  for i in model_lw.most_similar(positive=[word], topn=1):\n"
     ]
    },
    {
     "data": {
      "text/plain": [
       "'разрешать гдеть кроме - как ясный туда глина лжец потрясать глина мужчина никогда действовать - упоминать юный занимать юный'"
      ]
     },
     "execution_count": 23,
     "metadata": {},
     "output_type": "execute_result"
    }
   ],
   "source": [
    "new_sen = []\n",
    "for word in sentence.split():\n",
    "    if word in model_lw.wv.vocab:\n",
    "        for i in model_lw.most_similar(positive=[word], topn=1):\n",
    "            # слово + коэффициент косинусной близости\n",
    "            new_word = i[0]\n",
    "        new_sen.append(new_word)\n",
    "    else:\n",
    "        new_sen.append('-')\n",
    "    \n",
    "s = ' '.join(new_sen)\n",
    "s"
   ]
  },
  {
   "cell_type": "markdown",
   "metadata": {},
   "source": [
    "Выведем начальное предложение и полученное:"
   ]
  },
  {
   "cell_type": "code",
   "execution_count": 24,
   "metadata": {},
   "outputs": [
    {
     "name": "stdout",
     "output_type": "stream",
     "text": [
      "вы совсем не ценить что вот мы  молодой мужчина и молодой женщина  мочь так непринужденный говорить друг с друг\n",
      " |\n",
      " V\n",
      " разрешать гдеть кроме - как ясный туда глина лжец потрясать глина мужчина никогда действовать - упоминать юный занимать юный\n"
     ]
    }
   ],
   "source": [
    "print(sentence, '|\\n', 'V\\n', s)"
   ]
  },
  {
   "cell_type": "code",
   "execution_count": null,
   "metadata": {},
   "outputs": [],
   "source": []
  }
 ],
 "metadata": {
  "kernelspec": {
   "display_name": "Python 3",
   "language": "python",
   "name": "python3"
  },
  "language_info": {
   "codemirror_mode": {
    "name": "ipython",
    "version": 3
   },
   "file_extension": ".py",
   "mimetype": "text/x-python",
   "name": "python",
   "nbconvert_exporter": "python",
   "pygments_lexer": "ipython3",
   "version": "3.8.3"
  }
 },
 "nbformat": 4,
 "nbformat_minor": 4
}
