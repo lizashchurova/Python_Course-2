{
 "cells": [
  {
   "cell_type": "code",
   "execution_count": 1,
   "metadata": {},
   "outputs": [],
   "source": [
    "#Подключим базу данных фильмов\n",
    "import sqlite3\n",
    "import pandas as pd\n",
    "con = sqlite3.connect('imdb_small.db')\n",
    "cur = con.cursor()"
   ]
  },
  {
   "cell_type": "code",
   "execution_count": 2,
   "metadata": {},
   "outputs": [],
   "source": [
    "#Запишем название фильма, год выпуска и оценку фильма\n",
    "titles_dates_rates = [\n",
    "    ['Avatar', '2009', '10'], ['Deadpool 2', '2018', '7'], ['Black Panther', '2018', '8'], ['Logan', '2017', '9'], \n",
    "    ['Star Wars: Episode VIII - The Last Jedi', '2017', '5'], ['The Mummy', '2017', '6'], ['Joker', '2019', '10'],\n",
    "    ['Captain Marvel', '2019', '4'], ['Ford v Ferrari', '2019', '10'], ['Alita: Battle Angel', '2019', '3'], \n",
    "    ['La La Land', '2016', '1'], ['Zootopia', '2016', '10'], ['Passengers', '2016', '8'], ['The Shallows', '2016', '7'],\n",
    "    ['The 5th Wave', '2016', '2']\n",
    "]"
   ]
  },
  {
   "cell_type": "code",
   "execution_count": 3,
   "metadata": {},
   "outputs": [],
   "source": [
    "#Создадим  таблицу с названием my_films, состоящую из id фильма (первичный ключ), \n",
    "#его названия, даты премьеры и моего рейтинга, а затем сохраним:\n",
    "cur.execute(\"\"\"\n",
    "CREATE TABLE my_films_films (\n",
    "    title_id INT, \n",
    "    title TEXT, \n",
    "    premiered INT,\n",
    "    rating REAL,\n",
    "    PRIMARY KEY (title_id)\n",
    ")\n",
    "\"\"\")\n",
    "\n",
    "con.commit()"
   ]
  },
  {
   "cell_type": "code",
   "execution_count": 4,
   "metadata": {},
   "outputs": [],
   "source": [
    "#Сделаем выборку из общей таблицы и добавим в запрос переменные (название фильма и год премьеры):\n",
    "my_films_query_1 = \"\"\"\n",
    "SELECT title_id, title, premiered\n",
    "FROM titles\n",
    "WHERE title = ? AND titles.premiered = ?\n",
    "\"\"\""
   ]
  },
  {
   "cell_type": "code",
   "execution_count": 5,
   "metadata": {},
   "outputs": [
    {
     "data": {
      "text/plain": [
       "[(499549, 'Avatar', 2009, '10'),\n",
       " (5463162, 'Deadpool 2', 2018, '7'),\n",
       " (1825683, 'Black Panther', 2018, '8'),\n",
       " (3315342, 'Logan', 2017, '9'),\n",
       " (2527336, 'Star Wars: Episode VIII - The Last Jedi', 2017, '5'),\n",
       " (2345759, 'The Mummy', 2017, '6'),\n",
       " (7286456, 'Joker', 2019, '10'),\n",
       " (4154664, 'Captain Marvel', 2019, '4'),\n",
       " (1950186, 'Ford v Ferrari', 2019, '10'),\n",
       " (437086, 'Alita: Battle Angel', 2019, '3'),\n",
       " (3783958, 'La La Land', 2016, '1'),\n",
       " (2948356, 'Zootopia', 2016, '10'),\n",
       " (1355644, 'Passengers', 2016, '8'),\n",
       " (4052882, 'The Shallows', 2016, '7'),\n",
       " (2304933, 'The 5th Wave', 2016, '2')]"
      ]
     },
     "execution_count": 5,
     "metadata": {},
     "output_type": "execute_result"
    }
   ],
   "source": [
    "#Вернемся к  списку просмотренных фильмов. \n",
    "#Для каждого из них сделаем запрос и получим необходимые данные, а потом добавим к ним наш рейтинг:\n",
    "data = []\n",
    "for i in titles_dates_rates:\n",
    "    title = i[0]\n",
    "    date = i[1]\n",
    "    rate = i[2]\n",
    "    \n",
    "    cur.execute(my_films_query_1, (title, date))\n",
    "    line = cur.fetchone()\n",
    "    d = (line[0], line[1], line[2], rate)\n",
    "    data.append(d)\n",
    "\n",
    "data"
   ]
  },
  {
   "cell_type": "code",
   "execution_count": 6,
   "metadata": {},
   "outputs": [],
   "source": [
    "#Добавим в уже созданную таблицу данные и сохраним:\n",
    "cur.executemany(\"INSERT INTO my_films_films VALUES (?, ?, ?, ?)\", data)\n",
    "con.commit()"
   ]
  },
  {
   "cell_type": "code",
   "execution_count": 7,
   "metadata": {},
   "outputs": [],
   "source": [
    "#Снова подключим базу данных фильмов IMDb:\n",
    "con = sqlite3.connect('imdb_small_indexed.db')\n",
    "cur = con.cursor()"
   ]
  },
  {
   "cell_type": "code",
   "execution_count": 8,
   "metadata": {},
   "outputs": [
    {
     "name": "stdout",
     "output_type": "stream",
     "text": [
      "Число строк: 50\n"
     ]
    },
    {
     "data": {
      "text/plain": [
       "[('Houkutuslintu', 1946, 5.9, 84),\n",
       " ('August järjestää kaiken', 1942, 6.1, 95),\n",
       " ('My Favorite Wife', 1940, 7.4, 88),\n",
       " ('Odygdens belöning', 1944, 5.5, 83),\n",
       " ('Altes Herz geht auf die Reise', 1947, 6.5, 87),\n",
       " ('El fanfarrón: ¡Aquí llegó el valentón!', 1940, 7.5, 83),\n",
       " ('Narcisse', 1940, 5.2, 95),\n",
       " ('Szüts Mara házassága', 1941, 5.9, 91),\n",
       " ('Band Waggon', 1940, 5.5, 85),\n",
       " ('Beating Heart', 1940, 6.8, 97),\n",
       " ('Centomila dollari', 1940, 5.3, 83),\n",
       " (\"Devil's Daughter\", 1946, 7.1, 105),\n",
       " ('Familjen Björck', 1940, 5.7, 98),\n",
       " ('French Without Tears', 1940, 7.0, 86),\n",
       " ('Földindulás', 1940, 6.7, 92),\n",
       " ('Füszer és csemege', 1940, 6.9, 85),\n",
       " ('Gaslight', 1940, 7.3, 84),\n",
       " ('The Green Hornet', 1940, 6.8, 258),\n",
       " ('I Take This Woman', 1940, 6.4, 98),\n",
       " ('Los de abajo', 1940, 7.2, 89),\n",
       " ('Gambling Hell', 1942, 6.7, 90),\n",
       " ('La malquerida', 1940, 6.7, 94),\n",
       " ('The Man from Down Under', 1943, 6.0, 103),\n",
       " ('Ein Mann auf Abwegen', 1940, 6.7, 88),\n",
       " ('The Middle Watch', 1940, 6.3, 87),\n",
       " ('Motel the Operator', 1940, 5.8, 88),\n",
       " ('Night in December', 1940, 5.3, 82),\n",
       " ('Podnyataya tselina', 1940, 7.1, 118),\n",
       " ('Pour le maillot jaune', 1940, 6.9, 91),\n",
       " ('The Stars Look Down', 1940, 7.0, 110),\n",
       " ('Ten Days in Paris', 1940, 6.3, 82),\n",
       " ('Weißer Flieder', 1940, 6.3, 92),\n",
       " ('¡Que viene mi marido!', 1940, 6.5, 91),\n",
       " (\"'Til We Meet Again\", 1940, 6.8, 99),\n",
       " ('...som en tjuv om natten', 1940, 5.3, 98),\n",
       " ('20 Mule Team', 1940, 6.4, 84),\n",
       " ('Abe Lincoln in Illinois', 1940, 7.3, 110),\n",
       " ('Addio, giovinezza!', 1940, 5.9, 94),\n",
       " ('Adventures of Red Ryder', 1940, 7.2, 205),\n",
       " (\"You're Missing the Point\", 1940, 8.1, 112),\n",
       " ('Alarm', 1941, 7.4, 90),\n",
       " ('All This, and Heaven Too', 1940, 7.5, 141),\n",
       " ('Americaner Shadchen', 1940, 5.9, 87),\n",
       " ('Andy Hardy Meets Debutante', 1940, 6.8, 88),\n",
       " ('Angelika', 1940, 6.2, 97),\n",
       " ('Anne of Windy Poplars', 1940, 6.4, 86),\n",
       " ('Argila', 1940, 7.0, 103),\n",
       " ('Arise, My Love', 1940, 6.8, 110),\n",
       " ('Arizona', 1940, 6.7, 125),\n",
       " ('The Siege of the Alcazar', 1940, 6.2, 112)]"
      ]
     },
     "execution_count": 8,
     "metadata": {},
     "output_type": "execute_result"
    }
   ],
   "source": [
    "#Сделаем запрос: выбрать фильмы, выпущенные в промежутке 1940-1950 годов, которые длятся больше 80 минут. \n",
    "#Вывести 50 таких фильмов:\n",
    "indexed1_query = \"\"\"\n",
    "SELECT title, premiered, rating, runtime_min\n",
    "FROM titles\n",
    "    JOIN rating ON titles.title_id = rating.title_id\n",
    "WHERE premiered <= 1950 AND premiered >= 1940 AND runtime_min > 80\n",
    "LIMIT 50\n",
    "\"\"\"\n",
    "\n",
    "cur.execute(indexed1_query)\n",
    "d1 = cur.fetchall()\n",
    "print('Число строк:', len(d1))\n",
    "d1"
   ]
  },
  {
   "cell_type": "code",
   "execution_count": 9,
   "metadata": {},
   "outputs": [
    {
     "name": "stdout",
     "output_type": "stream",
     "text": [
      "Число строк: 5\n"
     ]
    },
    {
     "data": {
      "text/plain": [
       "[('Arnold Schwarzenegger', 141, 25, 93.6),\n",
       " ('Bruce Lee', 130, 45, 91.9),\n",
       " ('Bruce Willis', 154, 30, 102.9),\n",
       " ('Jason Statham', 137, 83, 104.0),\n",
       " ('Tom Cruise', 500, 30, 118.9)]"
      ]
     },
     "execution_count": 9,
     "metadata": {},
     "output_type": "execute_result"
    }
   ],
   "source": [
    "#Сделаем запрос: вывести актеров и максимальную, минимальную и среднюю длительность фильмов, в которых они снимались.\n",
    "indexed2_query = \"\"\"\n",
    "SELECT \n",
    "    name,\n",
    "    MAX(runtime_min) as max_run,\n",
    "    MIN(runtime_min) as min_run,\n",
    "    ROUND(AVG(runtime_min), 1) as a_run\n",
    "FROM titles\n",
    "    JOIN crew ON titles.title_id = crew.title_id\n",
    "    JOIN people ON crew.person_id = people.person_id\n",
    "WHERE name IN ('Tom Cruise', 'Jason Statham', 'Arnold Schwarzenegger', 'Bruce Willis', 'Bruce Lee')\n",
    "GROUP BY name\n",
    "\"\"\"\n",
    "\n",
    "cur.execute(indexed2_query)\n",
    "d2 = cur.fetchall()\n",
    "print('Число строк:', len(d2))\n",
    "d2"
   ]
  },
  {
   "cell_type": "code",
   "execution_count": 10,
   "metadata": {},
   "outputs": [
    {
     "name": "stdout",
     "output_type": "stream",
     "text": [
      "Число строк: 20\n"
     ]
    },
    {
     "data": {
      "text/plain": [
       "[('Bucharest Memories', 2020, 7.2, 1, 'Radu Gabrea'),\n",
       " ('Entertainment Tonight/Weekend Edition/International',\n",
       "  2019,\n",
       "  6.7,\n",
       "  2,\n",
       "  'Keltie Knight, Arlene Santana'),\n",
       " ('Shellmont', 2019, 5.9, 2, 'Rob Servidone, Gus Trapani'),\n",
       " ('Hotel Camarillo', 2019, 5.0, 1, 'Wayne Poe'),\n",
       " ('One Mind', 2019, 7.0, 2, 'Edward A. Burger, Agnes Lam'),\n",
       " ('Merchants of the Wild',\n",
       "  2019,\n",
       "  9.4,\n",
       "  2,\n",
       "  'Falen Johnson, Caleb Kinew Nini Musgrave'),\n",
       " ('Fly High: Story of the Disc Dog',\n",
       "  2019,\n",
       "  9.2,\n",
       "  2,\n",
       "  'Lindsay Thompson, Christopher Laforet'),\n",
       " ('Minder of the Mind', 2019, 3.9, 1, 'John H. Shelton'),\n",
       " ('Agents Unknown',\n",
       "  2019,\n",
       "  7.9,\n",
       "  3,\n",
       "  'John Murphy, Michael Reiter, Stephan Mazurek'),\n",
       " ('Paranoia', 2019, 3.8, 2, 'Evgeniy Mishukhin, Sergey A.'),\n",
       " ('Grabiteli', 2019, 1.8, 3, 'Sergey A., Evgeniy Mishukhin, Firz'),\n",
       " ('Cast Away',\n",
       "  2019,\n",
       "  4.1,\n",
       "  3,\n",
       "  'Paul Gustovich, Vitaliy Versace, David L. Walker'),\n",
       " ('UnDeadDeat Dad', 2020, 7.8, 1, 'Paul Overacker'),\n",
       " ('Cinema Twain', 2019, 7.4, 1, 'Val Kilmer'),\n",
       " ('Symbiotic Earth: How Lynn Margulis rocked the boat and started a scientific revolution',\n",
       "  2019,\n",
       "  7.7,\n",
       "  3,\n",
       "  'Fritjof Capra, John Feldman, Sheila Silver'),\n",
       " ('The Great Disconnect', 2019, 8.1, 2, 'Tamer Soliman, Jeremy Walton'),\n",
       " ('Dajjal: The Slayer and His Followers',\n",
       "  2019,\n",
       "  5.8,\n",
       "  2,\n",
       "  'Abrar Rana, Maimoona Abrar'),\n",
       " ('Do No Harm: The Opioid Epidemic', 2019, 6.4, 1, 'Ed Harris'),\n",
       " ('And Then It Goes Dark',\n",
       "  2019,\n",
       "  8.5,\n",
       "  3,\n",
       "  'Abbi Butler, Austin Cook, Dustin Kirkendall'),\n",
       " ('Far Frontiers',\n",
       "  2020,\n",
       "  6.4,\n",
       "  3,\n",
       "  'Viktoriya Tolstoganova, Maxim Dashkin, Anna von Dziembowska')]"
      ]
     },
     "execution_count": 10,
     "metadata": {},
     "output_type": "execute_result"
    }
   ],
   "source": [
    "#Сделаем запрос: вывести фильмы, выпущенные позже 2018 года, и список играющих в нем актеров, если их не больше 3.\n",
    "indexed3_query = \"\"\"\n",
    "SELECT title, premiered, rating, COUNT(people.person_id) as n_actors, GROUP_CONCAT(people.name, ', ') as actors\n",
    "FROM titles\n",
    "    JOIN crew ON titles.title_id = crew.title_id\n",
    "    JOIN people ON crew.person_id = people.person_id\n",
    "    JOIN rating ON titles.title_id = rating.title_id\n",
    "WHERE premiered > 2018\n",
    "GROUP BY titles.title_id\n",
    "HAVING n_actors <= 3\n",
    "LIMIT 20\n",
    "\"\"\"\n",
    "\n",
    "cur.execute(indexed3_query)\n",
    "d3 = cur.fetchall()\n",
    "\n",
    "print('Число строк:', len(d3))\n",
    "d3"
   ]
  },
  {
   "cell_type": "code",
   "execution_count": 11,
   "metadata": {},
   "outputs": [
    {
     "data": {
      "text/plain": [
       "[(2010, 18737),\n",
       " (2011, 21205),\n",
       " (2012, 23455),\n",
       " (2013, 24854),\n",
       " (2014, 26528),\n",
       " (2015, 28145),\n",
       " (2016, 29553),\n",
       " (2017, 30188),\n",
       " (2018, 29505),\n",
       " (2019, 27627),\n",
       " (2020, 23421)]"
      ]
     },
     "execution_count": 11,
     "metadata": {},
     "output_type": "execute_result"
    }
   ],
   "source": [
    "#Построим график по запросу: вывести количество фильмов, выпущенных в 2010-2020 годах:\n",
    "indexed4_query = \"\"\"\n",
    "SELECT premiered, COUNT(premiered) as n_year\n",
    "FROM titles\n",
    "\n",
    "WHERE premiered >= 2010\n",
    "GROUP BY premiered\n",
    "HAVING n_year > 5000\n",
    "\"\"\"\n",
    "\n",
    "cur.execute(indexed4_query)\n",
    "data = cur.fetchall()\n",
    "data"
   ]
  },
  {
   "cell_type": "code",
   "execution_count": 12,
   "metadata": {},
   "outputs": [],
   "source": [
    "#Разделим полученные данные, чтобы потом добавить их в график:\n",
    "years = []\n",
    "amount = []\n",
    "for i in data:\n",
    "    years.append(i[0])\n",
    "    amount.append(i[1])"
   ]
  },
  {
   "cell_type": "code",
   "execution_count": 13,
   "metadata": {},
   "outputs": [
    {
     "data": {
      "image/png": "[encoded data removed]",
      "text/plain": [
       "<Figure size 432x288 with 1 Axes>"
      ]
     },
     "metadata": {
      "needs_background": "light"
     },
     "output_type": "display_data"
    }
   ],
   "source": [
    "#Импортируем модуль _matplotlib_ и построим bar plot:\n",
    "import matplotlib.pyplot as plt\n",
    "\n",
    "plt.bar(years, amount, color='green')\n",
    "plt.xticks(ticks=years, labels=years)\n",
    "plt.title('Количество фильмов, выпущенных в 2010-2020 году')\n",
    "plt.ylabel('Количество фильмов')\n",
    "plt.xlabel('Год')\n",
    "plt.show()"
   ]
  },
  {
   "cell_type": "code",
   "execution_count": null,
   "metadata": {},
   "outputs": [],
   "source": []
  }
 ],
 "metadata": {
  "kernelspec": {
   "display_name": "Python 3",
   "language": "python",
   "name": "python3"
  },
  "language_info": {
   "codemirror_mode": {
    "name": "ipython",
    "version": 3
   },
   "file_extension": ".py",
   "mimetype": "text/x-python",
   "name": "python",
   "nbconvert_exporter": "python",
   "pygments_lexer": "ipython3",
   "version": "3.8.3"
  }
 },
 "nbformat": 4,
 "nbformat_minor": 4
}
